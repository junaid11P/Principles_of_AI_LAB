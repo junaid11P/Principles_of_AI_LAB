{
 "cells": [
  {
   "cell_type": "code",
   "execution_count": 3,
   "id": "17aefaf3-b34e-467b-b7dd-9ee9c06c0251",
   "metadata": {},
   "outputs": [],
   "source": [
    "def dfs_recursive(graph, node, visited):\n",
    "    if node not in visited:\n",
    "        print(node, end=\" \")\n",
    "        visited.add(node)\n",
    "        for neighbor in graph[node]:\n",
    "            dfs_recursive(graph, neighbor, visited)"
   ]
  },
  {
   "cell_type": "code",
   "execution_count": 5,
   "id": "f8a4827f-5a7d-4981-a02c-16ff0368857d",
   "metadata": {},
   "outputs": [],
   "source": [
    "graph={\n",
    "    'A':['B','C'],\n",
    "    'B':['A','D','E'],\n",
    "    'C':['A','F'],\n",
    "    'D':['B'],\n",
    "    'E':['B'],\n",
    "    'F':['C'],\n",
    "    'G':['C'],\n",
    "    'H':['E'],\n",
    "}"
   ]
  },
  {
   "cell_type": "code",
   "execution_count": 9,
   "id": "78c8a235-7965-4d86-bf47-0f8568e4c6ad",
   "metadata": {},
   "outputs": [
    {
     "name": "stdout",
     "output_type": "stream",
     "text": [
      "Recursive DFS:\n",
      "A B D E C F "
     ]
    }
   ],
   "source": [
    "visited_set = set()\n",
    "print(\"Recursive DFS:\")\n",
    "dfs_recursive(graph, 'A', visited_set)"
   ]
  }
 ],
 "metadata": {
  "kernelspec": {
   "display_name": "Python [conda env:.conda]",
   "language": "python",
   "name": "conda-env-.conda-py"
  },
  "language_info": {
   "codemirror_mode": {
    "name": "ipython",
    "version": 3
   },
   "file_extension": ".py",
   "mimetype": "text/x-python",
   "name": "python",
   "nbconvert_exporter": "python",
   "pygments_lexer": "ipython3",
   "version": "3.12.9"
  }
 },
 "nbformat": 4,
 "nbformat_minor": 5
}
