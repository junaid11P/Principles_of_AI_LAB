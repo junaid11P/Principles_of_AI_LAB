{
 "cells": [
  {
   "cell_type": "code",
   "execution_count": 7,
   "id": "17aefaf3-b34e-467b-b7dd-9ee9c06c0251",
   "metadata": {},
   "outputs": [],
   "source": [
    "def dfs_recursive(graph, node, visited):\n",
    "    if node not in visited:\n",
    "        print(node, end=\" \")\n",
    "        visited.add(node)\n",
    "        for neighbor in graph[node]:\n",
    "            dfs_recursive(graph, neighbor, visited)"
   ]
  },
  {
   "cell_type": "code",
   "execution_count": 8,
   "id": "f8a4827f-5a7d-4981-a02c-16ff0368857d",
   "metadata": {},
   "outputs": [],
   "source": [
    "graph={\n",
    "    'A':['B','C'],\n",
    "    'B':['A','D','E'],\n",
    "    'C':['A','F'],\n",
    "    'D':['B'],\n",
    "    'E':['B'],\n",
    "    'F':['C'],\n",
    "    'G':['C'],\n",
    "    'H':['E'],\n",
    "}"
   ]
  },
  {
   "cell_type": "code",
   "execution_count": 9,
   "id": "78c8a235-7965-4d86-bf47-0f8568e4c6ad",
   "metadata": {},
   "outputs": [
    {
     "name": "stdout",
     "output_type": "stream",
     "text": [
      "Recursive DFS:\n",
      "A B D E C F "
     ]
    }
   ],
   "source": [
    "visited = set()\n",
    "print(\"Recursive DFS:\")\n",
    "dfs_recursive(graph, 'A', visited)"
   ]
  },
  {
   "cell_type": "code",
   "execution_count": null,
   "id": "0e44ac82-0bbf-4395-bd29-1b4386b3c3f2",
   "metadata": {},
   "outputs": [],
   "source": []
  }
 ],
 "metadata": {
  "kernelspec": {
   "display_name": "Python 3 (ipykernel)",
   "language": "python",
   "name": "python3"
  },
  "language_info": {
   "codemirror_mode": {
    "name": "ipython",
    "version": 3
   },
   "file_extension": ".py",
   "mimetype": "text/x-python",
   "name": "python",
   "nbconvert_exporter": "python",
   "pygments_lexer": "ipython3",
   "version": "3.12.7"
  }
 },
 "nbformat": 4,
 "nbformat_minor": 5
}
