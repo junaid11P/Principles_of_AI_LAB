{
 "cells": [
  {
   "cell_type": "code",
   "execution_count": 1,
   "id": "3c3c00b6-2de6-4912-8604-a550928f6342",
   "metadata": {},
   "outputs": [
    {
     "name": "stdout",
     "output_type": "stream",
     "text": [
      "Array Type:  <class 'numpy.ndarray'>\n",
      "No. of dimensions:  2\n",
      "Shape of array:  (2, 2)\n",
      "Size of array:  4\n",
      "Array store elements of type:  int64\n"
     ]
    }
   ],
   "source": [
    "#1.NumPy is a powerful library for handling arrays and numerical computations in Python.\n",
    "import numpy as n\n",
    "myarray = n.array([[1,2],[3,4]])  \n",
    "print(\"Array Type: \",type(myarray)) \n",
    "print(\"No. of dimensions: \",myarray.ndim)  \n",
    "print(\"Shape of array: \",myarray.shape)  \n",
    "print(\"Size of array: \",myarray.size)  \n",
    "print(\"Array store elements of type: \",myarray.dtype)"
   ]
  },
  {
   "cell_type": "code",
   "execution_count": 2,
   "id": "6a0af822-f6f2-492c-8f46-560a0a6b9f07",
   "metadata": {},
   "outputs": [
    {
     "name": "stdout",
     "output_type": "stream",
     "text": [
      "Array with first 2 rows and alternate columns (0 and 2):\n",
      " [[-1.  0.]\n",
      " [ 4.  6.]]\n",
      "\n",
      "Elements at indices (0, 3), (1, 2), (2, 1), (3, 0):\n",
      " [4. 6. 0. 3.]\n",
      "\n",
      "Elements greater than 0:\n",
      " [2.  4.  4.  6.  2.6 7.  8.  3.  4.  2. ]\n"
     ]
    }
   ],
   "source": [
    "#2.Array Indexing\n",
    "import numpy as np \n",
    "arr = np.array([[-1, 2, 0, 4], \n",
    "                [4, -0.5, 6, 0], \n",
    "                [2.6, 0, 7, 8], \n",
    "                [3, -7, 4, 2.0]]) \n",
    "temp = arr[:2, ::2] \n",
    "print (\"Array with first 2 rows and alternate columns (0 and 2):\\n\", temp) \n",
    "temp = arr[[0, 1, 2, 3], [3, 2, 1, 0]] \n",
    "print (\"\\nElements at indices (0, 3), (1, 2), (2, 1), (3, 0):\\n\", temp) \n",
    "cond = arr > 0\n",
    "temp = arr[cond] \n",
    "print (\"\\nElements greater than 0:\\n\", temp)"
   ]
  },
  {
   "cell_type": "code",
   "execution_count": 3,
   "id": "75d7c906-d1b2-4d99-9c33-72f59c791ab3",
   "metadata": {},
   "outputs": [
    {
     "name": "stdout",
     "output_type": "stream",
     "text": [
      "Adding 1 to every element: [2 3 6 4]\n",
      "Subtracting 3 from each element: [-2 -1  2  0]\n",
      "Multiplying each element by 10: [10 20 50 30]\n",
      "Squaring each element: [ 1  4 25  9]\n",
      "Doubled each element of original array: [ 2  4 10  6]\n",
      "\n",
      "Original array:\n",
      " [[1 2 3]\n",
      " [3 4 5]\n",
      " [9 6 0]]\n",
      "Transpose of array:\n",
      " [[1 3 9]\n",
      " [2 4 6]\n",
      " [3 5 0]]\n"
     ]
    }
   ],
   "source": [
    "#3.Basic operations (Operations on single array)\n",
    "import numpy as np \n",
    "a = np.array([1, 2, 5, 3]) \n",
    "print (\"Adding 1 to every element:\", a+1) \n",
    "print (\"Subtracting 3 from each element:\", a-3) \n",
    "print (\"Multiplying each element by 10:\", a*10) \n",
    "print (\"Squaring each element:\", a**2) \n",
    "a *= 2\n",
    "print (\"Doubled each element of original array:\", a) \n",
    "a = np.array([[1, 2, 3], [3, 4, 5], [9, 6, 0]]) \n",
    "print (\"\\nOriginal array:\\n\", a) \n",
    "print (\"Transpose of array:\\n\", a.T)"
   ]
  },
  {
   "cell_type": "code",
   "execution_count": 4,
   "id": "fa1d6048-1ba5-45d0-b4b2-4839e0f9985b",
   "metadata": {},
   "outputs": [
    {
     "name": "stdout",
     "output_type": "stream",
     "text": [
      "Largest element is: 9\n",
      "Row-wise maximum elements: [6 7 9]\n",
      "Column-wise minimum elements: [1 1 2]\n",
      "Sum of all array elements: 38\n",
      "Cumulative sum along each row:\n",
      " [[ 1  6 12]\n",
      " [ 4 11 13]\n",
      " [ 3  4 13]]\n"
     ]
    }
   ],
   "source": [
    "#4.Unary operators:\n",
    "import numpy as np \n",
    "arr = np.array([[1, 5, 6], \n",
    "                [4, 7, 2], \n",
    "                [3, 1, 9]]) \n",
    "print (\"Largest element is:\", arr.max()) \n",
    "print (\"Row-wise maximum elements:\", arr.max(axis = 1)) \n",
    "print (\"Column-wise minimum elements:\", arr.min(axis = 0)) \n",
    "print (\"Sum of all array elements:\", arr.sum()) \n",
    "print (\"Cumulative sum along each row:\\n\", arr.cumsum(axis = 1))"
   ]
  },
  {
   "cell_type": "code",
   "execution_count": 5,
   "id": "c3dd7772-89c1-44b3-bd1c-b4af8c28eee0",
   "metadata": {},
   "outputs": [
    {
     "name": "stdout",
     "output_type": "stream",
     "text": [
      "Array sum:\n",
      " [[5 5]\n",
      " [5 5]]\n",
      "Array multiplication:\n",
      " [[4 6]\n",
      " [6 4]]\n",
      "Matrix multiplication:\n",
      " [[ 8  5]\n",
      " [20 13]]\n"
     ]
    }
   ],
   "source": [
    "#5.Binary operators: \n",
    "import numpy as np \n",
    "a = np.array([[1, 2],  [3, 4]]) \n",
    "b = np.array([[4, 3], [2, 1]]) \n",
    "print (\"Array sum:\\n\", a + b) \n",
    "print (\"Array multiplication:\\n\", a*b) \n",
    "print (\"Matrix multiplication:\\n\", a.dot(b))"
   ]
  },
  {
   "cell_type": "code",
   "execution_count": 6,
   "id": "f467abc1-fb62-4c44-bd5d-d11e1d114c9a",
   "metadata": {},
   "outputs": [
    {
     "name": "stdout",
     "output_type": "stream",
     "text": [
      "Array elements in sorted order:\n",
      " [-1  0  1  2  3  4  4  5  6]\n",
      "Row-wise sorted array:\n",
      " [[ 1  2  4]\n",
      " [ 3  4  6]\n",
      " [-1  0  5]]\n",
      "Column wise sort by applying merge-sort:\n",
      " [[ 0 -1  2]\n",
      " [ 1  4  5]\n",
      " [ 3  4  6]]\n",
      "\n",
      "Array sorted by names:\n",
      " [(b'Aakash', 2009, 9. ) (b'Ajay', 2008, 8.7) (b'Hrithik', 2009, 8.5)\n",
      " (b'Pankaj', 2008, 7.9)]\n",
      "Array sorted by grauation year and then cgpa:\n",
      " [(b'Pankaj', 2008, 7.9) (b'Ajay', 2008, 8.7) (b'Hrithik', 2009, 8.5)\n",
      " (b'Aakash', 2009, 9. )]\n"
     ]
    }
   ],
   "source": [
    "#6.Sorting \n",
    "import numpy as np \n",
    "  \n",
    "a = np.array([[1, 4, 2], \n",
    "                 [3, 4, 6], \n",
    "              [0, -1, 5]]) \n",
    "  \n",
    "# sorted array \n",
    "print (\"Array elements in sorted order:\\n\", \n",
    "                    np.sort(a, axis = None)) \n",
    "  \n",
    "# sort array row-wise \n",
    "print (\"Row-wise sorted array:\\n\", \n",
    "                np.sort(a, axis = 1)) \n",
    "  \n",
    "# specify sort algorithm \n",
    "print (\"Column wise sort by applying merge-sort:\\n\", \n",
    "            np.sort(a, axis = 0, kind = 'mergesort')) \n",
    "  \n",
    "# set alias names for dtypes \n",
    "dtypes = [('name', 'S10'), ('grad_year', int), ('cgpa', float)] \n",
    "  \n",
    "# Values to be put in array \n",
    "values = [('Hrithik', 2009, 8.5), ('Ajay', 2008, 8.7),  \n",
    "           ('Pankaj', 2008, 7.9), ('Aakash', 2009, 9.0)] \n",
    "             \n",
    "# Creating array \n",
    "arr = np.array(values, dtype = dtypes) \n",
    "print (\"\\nArray sorted by names:\\n\", \n",
    "            np.sort(arr, order = 'name')) \n",
    "              \n",
    "print (\"Array sorted by grauation year and then cgpa:\\n\", \n",
    "                np.sort(arr, order = ['grad_year', 'cgpa']))\n"
   ]
  },
  {
   "cell_type": "code",
   "execution_count": 7,
   "id": "230d511e-07f3-4457-ab76-20e85580693a",
   "metadata": {},
   "outputs": [
    {
     "name": "stdout",
     "output_type": "stream",
     "text": [
      "Our array is:\n",
      "[[3 7 5]\n",
      " [8 4 3]\n",
      " [2 4 9]]\n",
      "Applying amin() function:\n",
      "[3 3 2]\n",
      "Applying amin() function again:\n",
      "[2 4 3]\n",
      "Applying amax() function:\n",
      "9\n",
      "Applying amax() function again:\n",
      "[8 7 9]\n",
      "Applying ptp() function:\n",
      "7\n",
      "Applying ptp() function along axis 1:\n",
      "[4 5 7]\n",
      "Applying ptp() function along axis 0:\n",
      "[False False False]\n"
     ]
    }
   ],
   "source": [
    "#7.Functions\n",
    "\n",
    "import numpy as np \n",
    "a = np.array([[3,7,5],[8,4,3],[2,4,9]]) \n",
    "\n",
    "print ('Our array is:') \n",
    "print (a)    \n",
    "\n",
    "print ('Applying amin() function:') \n",
    "print (np.amin(a,1)) \n",
    "\n",
    "print ('Applying amin() function again:') \n",
    "print (np.amin(a,0) )\n",
    "\n",
    "print ('Applying amax() function:' )\n",
    "print (np.amax(a) )\n",
    "\n",
    "print ('Applying amax() function again:' )\n",
    "print (np.amax(a, axis = 0))\n",
    "\n",
    "print ('Applying ptp() function:')\n",
    "print (np.ptp(a)) \n",
    "\n",
    "print ('Applying ptp() function along axis 1:') \n",
    "print (np.ptp(a, axis = 1))\n",
    "\n",
    "print ('Applying ptp() function along axis 0:')\n",
    "print (np.ptp(a, axis = 0) == 0)\n"
   ]
  }
 ],
 "metadata": {
  "kernelspec": {
   "display_name": "Python 3 (ipykernel)",
   "language": "python",
   "name": "python3"
  },
  "language_info": {
   "codemirror_mode": {
    "name": "ipython",
    "version": 3
   },
   "file_extension": ".py",
   "mimetype": "text/x-python",
   "name": "python",
   "nbconvert_exporter": "python",
   "pygments_lexer": "ipython3",
   "version": "3.12.7"
  }
 },
 "nbformat": 4,
 "nbformat_minor": 5
}
