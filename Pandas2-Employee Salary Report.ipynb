{
 "cells": [
  {
   "cell_type": "code",
   "execution_count": 4,
   "id": "099cb305-0e24-45c8-a364-da1c1b859723",
   "metadata": {},
   "outputs": [
    {
     "name": "stdout",
     "output_type": "stream",
     "text": [
      "Employee Data:\n",
      "   Emp_ID    Name Department  Salary\n",
      "0     101    John         HR   50000\n",
      "1     102    Emma         IT   70000\n",
      "2     103    Liam         IT   65000\n",
      "3     104  Olivia         HR   48000\n",
      "4     105    Noah    Finance   62000\n",
      "\n",
      "Employees with Salary > 60,000:\n",
      "   Emp_ID  Name Department  Salary\n",
      "1     102  Emma         IT   70000\n",
      "2     103  Liam         IT   65000\n",
      "4     105  Noah    Finance   62000\n",
      "\n",
      "Average Salary by Department:\n",
      "Department\n",
      "Finance    62000.0\n",
      "HR         49000.0\n",
      "IT         67500.0\n",
      "Name: Salary, dtype: float64\n",
      "\n",
      "Employee Data with Bonus:\n",
      "   Emp_ID    Name Department  Salary   Bonus\n",
      "0     101    John         HR   50000  5000.0\n",
      "1     102    Emma         IT   70000  7000.0\n",
      "2     103    Liam         IT   65000  6500.0\n",
      "3     104  Olivia         HR   48000  4800.0\n",
      "4     105    Noah    Finance   62000  6200.0\n",
      "\n",
      "Data saved to 'employee_report.csv'\n"
     ]
    }
   ],
   "source": [
    "import pandas as pd\n",
    "\n",
    "# Step 1: Create employee data\n",
    "\n",
    "data = {\n",
    "    'Emp_ID': [101, 102, 103, 104, 105],\n",
    "    'Name': ['John', 'Emma', 'Liam', 'Olivia', 'Noah'],\n",
    "    'Department': ['HR', 'IT', 'IT', 'HR', 'Finance'],\n",
    "    'Salary': [50000, 70000, 65000, 48000, 62000]\n",
    "}\n",
    "\n",
    "# Step 2: Create DataFrame\n",
    "\n",
    "df = pd.DataFrame(data)\n",
    "\n",
    "# Step 3: Show the original data\n",
    "\n",
    "print(\"Employee Data:\")\n",
    "print(df)\n",
    "\n",
    "# Step 4: Filter employees with salary > 60,000\n",
    "\n",
    "high_salary = df[df['Salary'] > 60000]\n",
    "print(\"\\nEmployees with Salary > 60,000:\")\n",
    "print(high_salary)\n",
    "\n",
    "# Step 5: Calculate average salary department-wise\n",
    "\n",
    "avg_salary = df.groupby('Department')['Salary'].mean()\n",
    "print(\"\\nAverage Salary by Department:\")\n",
    "print(avg_salary)\n",
    "\n",
    "# Step 6: Add Bonus column (10% of salary)\n",
    "\n",
    "df['Bonus'] = df['Salary'] * 0.10\n",
    "print(\"\\nEmployee Data with Bonus:\")\n",
    "print(df)\n",
    "\n",
    "# Step 7: Save the data to a CSV file\n",
    "\n",
    "df.to_csv('employee_report.csv', index=False)\n",
    "print(\"\\nData saved to 'employee_report.csv'\")"
   ]
  },
  {
   "cell_type": "code",
   "execution_count": null,
   "id": "a4a18f46-1d09-4a1e-9b75-3b9b53b1cf13",
   "metadata": {},
   "outputs": [],
   "source": []
  }
 ],
 "metadata": {
  "kernelspec": {
   "display_name": "Python 3 (ipykernel)",
   "language": "python",
   "name": "python3"
  },
  "language_info": {
   "codemirror_mode": {
    "name": "ipython",
    "version": 3
   },
   "file_extension": ".py",
   "mimetype": "text/x-python",
   "name": "python",
   "nbconvert_exporter": "python",
   "pygments_lexer": "ipython3",
   "version": "3.12.7"
  }
 },
 "nbformat": 4,
 "nbformat_minor": 5
}
