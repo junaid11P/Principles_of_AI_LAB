{
 "cells": [
  {
   "cell_type": "code",
   "execution_count": 19,
   "id": "6389f29f-bdec-4702-82ac-3fc3d5866147",
   "metadata": {},
   "outputs": [],
   "source": [
    "def dfs_iterative(graph, start):\n",
    "    visited =set()\n",
    "    stack = [start]\n",
    "    while stack:\n",
    "        node = stack.pop()\n",
    "        if node not in visited:\n",
    "            print(node, end=\" \")\n",
    "            visited.add(node)\n",
    "            stack.extend(set(graph[node])- visited)"
   ]
  },
  {
   "cell_type": "code",
   "execution_count": 21,
   "id": "efdce5dd-e3fa-4195-a970-499ad53fc27d",
   "metadata": {},
   "outputs": [],
   "source": [
    "graph={\n",
    "    'A':['B','C'],\n",
    "    'B':['A','D','E'],\n",
    "    'C':['A','F'],\n",
    "    'D':['B'],\n",
    "    'E':['B'],\n",
    "    'F':['C'],\n",
    "    'G':['C'],\n",
    "    'H':['E'],\n",
    "}"
   ]
  },
  {
   "cell_type": "code",
   "execution_count": 23,
   "id": "db0cb83e-1f4e-44eb-b8fb-0e9425f62b30",
   "metadata": {},
   "outputs": [
    {
     "name": "stdout",
     "output_type": "stream",
     "text": [
      "\n",
      "Iterative DFS:\n",
      "A C F B D E "
     ]
    }
   ],
   "source": [
    "print(\"\\nIterative DFS:\")\n",
    "dfs_iterative(graph,'A')"
   ]
  },
  {
   "cell_type": "code",
   "execution_count": null,
   "id": "49eb519d-51f7-45c9-80d3-09beba2469b0",
   "metadata": {},
   "outputs": [],
   "source": []
  }
 ],
 "metadata": {
  "kernelspec": {
   "display_name": "Python [conda env:.conda]",
   "language": "python",
   "name": "conda-env-.conda-py"
  },
  "language_info": {
   "codemirror_mode": {
    "name": "ipython",
    "version": 3
   },
   "file_extension": ".py",
   "mimetype": "text/x-python",
   "name": "python",
   "nbconvert_exporter": "python",
   "pygments_lexer": "ipython3",
   "version": "3.12.9"
  }
 },
 "nbformat": 4,
 "nbformat_minor": 5
}
