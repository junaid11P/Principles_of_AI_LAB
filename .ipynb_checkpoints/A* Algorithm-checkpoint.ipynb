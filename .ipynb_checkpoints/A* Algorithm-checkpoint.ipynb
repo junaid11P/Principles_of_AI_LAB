{
 "cells": [
  {
   "cell_type": "code",
   "execution_count": 1,
   "id": "7fd94735-8a8f-4910-9994-ee130768e781",
   "metadata": {},
   "outputs": [],
   "source": [
    "def aStarAlgo(start_node, stop_node):\n",
    "    open_set = set([start_node])\n",
    "    closed_set = set()\n",
    "    g = {}  # Store cost from start to node\n",
    "    parents = {}  # Store parent nodes for path reconstruction\n",
    "    g[start_node] = 0  # The start node has a cost of 0\n",
    "    parents[start_node] = start_node\n",
    "\n",
    "    while len(open_set) > 0:\n",
    "        # Get the node with the lowest f(n) = g(n) + heuristic(n)\n",
    "        n = None\n",
    "        for v in open_set:\n",
    "            if n is None or g[v] + heuristic(v) < g[n] + heuristic(n):\n",
    "                n = v\n",
    "\n",
    "        # If we reached the goal or there's no valid path\n",
    "        if n == stop_node:\n",
    "            path = []\n",
    "            while parents[n] != n:\n",
    "                path.append(n)\n",
    "                n = parents[n]\n",
    "            path.append(start_node)\n",
    "            path.reverse()\n",
    "            print('Path found: {}'.format(path))\n",
    "            return path\n",
    "\n",
    "        if Graph_nodes.get(n) is None:\n",
    "            print('Path does not exist!')\n",
    "            return None\n",
    "\n",
    "        # Explore neighbors\n",
    "        for (m, weight) in get_neighbors(n):\n",
    "            if m not in open_set and m not in closed_set:\n",
    "                open_set.add(m)\n",
    "                parents[m] = n\n",
    "                g[m] = g[n] + weight\n",
    "            else:\n",
    "                if g[m] > g[n] + weight:\n",
    "                    g[m] = g[n] + weight\n",
    "                    parents[m] = n\n",
    "                    if m in closed_set:\n",
    "                        closed_set.remove(m)\n",
    "                        open_set.add(m)\n",
    "\n",
    "        open_set.remove(n)\n",
    "        closed_set.add(n)\n",
    "\n",
    "    print('Path does not exist!')\n",
    "    return None\n",
    "\n"
   ]
  },
  {
   "cell_type": "code",
   "execution_count": 3,
   "id": "4482b508-9e44-4763-a4d9-bf01a30e5e72",
   "metadata": {},
   "outputs": [],
   "source": [
    "def get_neighbors(v):\n",
    "    return Graph_nodes.get(v, [])\n"
   ]
  },
  {
   "cell_type": "code",
   "execution_count": 5,
   "id": "29f94682-8f78-4605-9302-dec4e2470b1f",
   "metadata": {},
   "outputs": [],
   "source": [
    "def heuristic(n):\n",
    "    H_dist = {\n",
    "        'A': 11,\n",
    "        'B': 6,\n",
    "        'C': 5,\n",
    "        'D': 7,\n",
    "        'E': 3,\n",
    "        'F': 6,\n",
    "        'G': 5,\n",
    "        'H': 3,\n",
    "        'I': 1,\n",
    "        'J': 0\n",
    "    }\n",
    "    return H_dist.get(n, float('inf'))  # Return infinity if node is not found in heuristic map\n"
   ]
  },
  {
   "cell_type": "code",
   "execution_count": 7,
   "id": "0ca09d88-4713-46be-bc5c-b04822e5e142",
   "metadata": {},
   "outputs": [],
   "source": [
    "Graph_nodes = {\n",
    "    'A': [('B', 6), ('F', 3)],\n",
    "    'B': [('A', 6), ('C', 3), ('D', 2)],\n",
    "    'C': [('B', 3), ('E', 5)],  # Removed the loop ('C', 1)\n",
    "    'D': [('B', 2), ('C', 1), ('E', 8)],\n",
    "    'E': [('C', 5), ('D', 8), ('I', 5), ('J', 5)],\n",
    "    'F': [('A', 3), ('G', 1), ('H', 7)],\n",
    "    'G': [('F', 1), ('I', 3)],\n",
    "    'H': [('F', 7), ('I', 2)],\n",
    "    'I': [('E', 5), ('G', 3), ('H', 2), ('J', 3)],\n",
    "}\n"
   ]
  },
  {
   "cell_type": "code",
   "execution_count": 11,
   "id": "2fff2e08-aad4-400a-a37b-b20f142dda6c",
   "metadata": {},
   "outputs": [
    {
     "name": "stdout",
     "output_type": "stream",
     "text": [
      "Path found: ['A', 'F', 'G', 'I', 'J']\n"
     ]
    },
    {
     "data": {
      "text/plain": [
       "['A', 'F', 'G', 'I', 'J']"
      ]
     },
     "execution_count": 11,
     "metadata": {},
     "output_type": "execute_result"
    }
   ],
   "source": [
    "aStarAlgo('A', 'J')"
   ]
  }
 ],
 "metadata": {
  "kernelspec": {
   "display_name": "Python [conda env:.conda]",
   "language": "python",
   "name": "conda-env-.conda-py"
  },
  "language_info": {
   "codemirror_mode": {
    "name": "ipython",
    "version": 3
   },
   "file_extension": ".py",
   "mimetype": "text/x-python",
   "name": "python",
   "nbconvert_exporter": "python",
   "pygments_lexer": "ipython3",
   "version": "3.12.9"
  }
 },
 "nbformat": 4,
 "nbformat_minor": 5
}
