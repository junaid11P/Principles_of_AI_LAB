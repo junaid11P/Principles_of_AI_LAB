{
 "cells": [
  {
   "cell_type": "code",
   "execution_count": 2,
   "id": "446cc606-a94c-4151-854a-61689a734546",
   "metadata": {},
   "outputs": [
    {
     "name": "stdout",
     "output_type": "stream",
     "text": [
      "Student Data:\n",
      "   Roll_No     Name  Maths  Science  English\n",
      "0        1    Alice     88       92       81\n",
      "1        2      Bob     76       85       79\n",
      "2        3  Charlie     90       78       88\n",
      "3        4    David     66       74       70\n",
      "4        5      Eva     95       88       85\n",
      "\n",
      "Updated Student Data with Total, Average, and Pass Status:\n",
      "   Roll_No     Name  Maths  Science  English  Total    Average  Passed\n",
      "0        1    Alice     88       92       81    261  87.000000    True\n",
      "1        2      Bob     76       85       79    240  80.000000    True\n",
      "2        3  Charlie     90       78       88    256  85.333333    True\n",
      "3        4    David     66       74       70    210  70.000000    True\n",
      "4        5      Eva     95       88       85    268  89.333333    True\n",
      "\n",
      "Results saved to 'student_results.csv'\n"
     ]
    }
   ],
   "source": [
    "import pandas as pd\n",
    "\n",
    "# Step 1: Create sample student data\n",
    "\n",
    "data = {\n",
    "    'Roll_No': [1, 2, 3, 4, 5],\n",
    "    'Name': ['Alice', 'Bob', 'Charlie', 'David', 'Eva'],\n",
    "    'Maths': [88, 76, 90, 66, 95],\n",
    "    'Science': [92, 85, 78, 74, 88],\n",
    "    'English': [81, 79, 88, 70, 85]\n",
    "}\n",
    "\n",
    "# Step 2: Create a DataFrame\n",
    "\n",
    "df = pd.DataFrame(data)\n",
    "# Step 3: Display the DataFrame\n",
    "print(\"Student Data:\")\n",
    "print(df)\n",
    "\n",
    "# Step 4: Calculate total and average marks\n",
    "\n",
    "df['Total'] = df[['Maths', 'Science', 'English']].sum(axis=1)\n",
    "df['Average'] = df[['Maths', 'Science', 'English']].mean(axis=1)\n",
    "\n",
    "# Step 5: Determine pass/fail (passing mark is 40 in each subject)\n",
    "\n",
    "df['Passed'] = (df[['Maths', 'Science', 'English']] >= 40).all(axis=1)\n",
    "\n",
    "# Step 6: Display updated DataFrame\n",
    "print(\"\\nUpdated Student Data with Total, Average, and Pass Status:\")\n",
    "print(df)\n",
    "\n",
    "# Step 7: Save the result to a CSV file\n",
    "\n",
    "df.to_csv('student_results.csv', index=False)\n",
    "print(\"\\nResults saved to 'student_results.csv'\")"
   ]
  },
  {
   "cell_type": "code",
   "execution_count": null,
   "id": "7101593d-6c7e-49ea-a489-f47bd17d588b",
   "metadata": {},
   "outputs": [],
   "source": []
  }
 ],
 "metadata": {
  "kernelspec": {
   "display_name": "Python 3 (ipykernel)",
   "language": "python",
   "name": "python3"
  },
  "language_info": {
   "codemirror_mode": {
    "name": "ipython",
    "version": 3
   },
   "file_extension": ".py",
   "mimetype": "text/x-python",
   "name": "python",
   "nbconvert_exporter": "python",
   "pygments_lexer": "ipython3",
   "version": "3.12.7"
  }
 },
 "nbformat": 4,
 "nbformat_minor": 5
}
