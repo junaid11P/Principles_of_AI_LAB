{
 "cells": [
  {
   "cell_type": "code",
   "execution_count": 5,
   "id": "9bbbf7f4-fada-49d7-9348-15324d18ecae",
   "metadata": {},
   "outputs": [],
   "source": [
    "import heapq"
   ]
  },
  {
   "cell_type": "code",
   "execution_count": 7,
   "id": "2235c029-2cf5-41ad-a0a8-c0cfdcf3fd11",
   "metadata": {},
   "outputs": [],
   "source": [
    "#Goal state for reference\n",
    "GOAL_STATE = [[1,2,3],[4,5,6],[7,8,0]]"
   ]
  },
  {
   "cell_type": "code",
   "execution_count": 9,
   "id": "2e9728ee-b2c0-40ec-942b-637954a70aa8",
   "metadata": {},
   "outputs": [],
   "source": [
    "#Move for Up, Down, Left, Right\n",
    "MOVES=[(-1,0),(1,0),(0,-1),(0,1)]"
   ]
  },
  {
   "cell_type": "code",
   "execution_count": 27,
   "id": "e20d15a6-e62f-4c28-84ea-16f236a31c19",
   "metadata": {},
   "outputs": [],
   "source": [
    "#convert board to tuple for hashing\n",
    "def board_to_tuple(board):\n",
    "    return tuple(tuple(row) for row in board)"
   ]
  },
  {
   "cell_type": "code",
   "execution_count": 29,
   "id": "1910c8a1-a514-47b7-a5af-71bac78c5847",
   "metadata": {},
   "outputs": [],
   "source": [
    "#Manhattan distance heuristic\n",
    "def manhattan(board):\n",
    "    distance=0\n",
    "    for i in range(3):\n",
    "        for j in range(3):\n",
    "            val = board[i][j]\n",
    "            if val !=0:\n",
    "                goal_x,goal_y=divmod(val -1,3)\n",
    "                distance+=abs(goal_x-i)+abs(goal_y-j)\n",
    "    return distance"
   ]
  },
  {
   "cell_type": "code",
   "execution_count": 31,
   "id": "eb9560da-5e0b-45f6-ac8f-a8f391377bb3",
   "metadata": {},
   "outputs": [],
   "source": [
    "#Find the (x,y) position of 0\n",
    "def find_zero(board):\n",
    "    for i in range(3):\n",
    "        for j in range(3):\n",
    "            if board[i][j] == 0:\n",
    "                return i, j\n"
   ]
  },
  {
   "cell_type": "code",
   "execution_count": 33,
   "id": "24a38837-38c3-4d72-9a75-f119bee2ad0e",
   "metadata": {},
   "outputs": [],
   "source": [
    "def solve_puzzle(start_board):\n",
    "    \n",
    "    visited = set()\n",
    "    heap = []\n",
    "    g_score = 0\n",
    "    f_score = manhattan(start_board)\n",
    "    heapq.heappush(heap, (f_score, g_score, start_board, []))\n",
    "    while heap:\n",
    "        f, g, board, path = heapq.heappop(heap)\n",
    "        board_tuple = board_to_tuple(board)\n",
    "        if board == GOAL_STATE:\n",
    "            return path + [board]\n",
    "        if board_tuple in visited:\n",
    "            continue\n",
    "        visited.add(board_tuple)\n",
    "        zero_x, zero_y = find_zero(board)\n",
    "        for dx, dy in MOVES:\n",
    "            new_x, new_y = zero_x + dx, zero_y + dy\n",
    "            if 0 <= new_x < 3 and 0 <= new_y < 3:\n",
    "                # Swap zero with target cell\n",
    "                new_board = [row[:] for row in board]\n",
    "                new_board[zero_x][zero_y], new_board[new_x][new_y] = new_board[new_x][new_y], new_board[zero_x][zero_y]\n",
    "                new_tuple = board_to_tuple(new_board)\n",
    "                if new_tuple not in visited:\n",
    "                    new_g = g + 1\n",
    "                    new_f = new_g + manhattan(new_board)\n",
    "                    heapq.heappush(heap, (new_f, new_g, new_board, path + [board]))\n",
    "    return None \n"
   ]
  },
  {
   "cell_type": "code",
   "execution_count": 35,
   "id": "2780fcf3-f988-4f53-9640-7f58b51e365a",
   "metadata": {},
   "outputs": [],
   "source": [
    "start = [[1, 2, 3],\n",
    "         [4, 0, 6],\n",
    "         [7, 5, 8]]\n"
   ]
  },
  {
   "cell_type": "code",
   "execution_count": 37,
   "id": "b6d2e3b2-1f2e-44b1-9b30-984fb2684d2c",
   "metadata": {},
   "outputs": [
    {
     "name": "stdout",
     "output_type": "stream",
     "text": [
      "Solution found in 2 moves:\n",
      "[1, 2, 3]\n",
      "[4, 0, 6]\n",
      "[7, 5, 8]\n",
      "------\n",
      "[1, 2, 3]\n",
      "[4, 5, 6]\n",
      "[7, 0, 8]\n",
      "------\n",
      "[1, 2, 3]\n",
      "[4, 5, 6]\n",
      "[7, 8, 0]\n",
      "------\n"
     ]
    }
   ],
   "source": [
    "solution = solve_puzzle(start)\n",
    "if solution:\n",
    "    print(\"Solution found in\", len(solution) - 1, \"moves:\")\n",
    "    for step in solution:\n",
    "        for row in step:\n",
    "            print(row)\n",
    "        print(\"------\")"
   ]
  }
 ],
 "metadata": {
  "kernelspec": {
   "display_name": "Python 3 (ipykernel)",
   "language": "python",
   "name": "python3"
  },
  "language_info": {
   "codemirror_mode": {
    "name": "ipython",
    "version": 3
   },
   "file_extension": ".py",
   "mimetype": "text/x-python",
   "name": "python",
   "nbconvert_exporter": "python",
   "pygments_lexer": "ipython3",
   "version": "3.12.7"
  }
 },
 "nbformat": 4,
 "nbformat_minor": 5
}
