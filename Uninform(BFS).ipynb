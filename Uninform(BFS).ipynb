{
 "cells": [
  {
   "cell_type": "code",
   "execution_count": 1,
   "id": "988387c3-c77c-4ef8-8ad0-dab93da41460",
   "metadata": {},
   "outputs": [],
   "source": [
    "from collections import deque"
   ]
  },
  {
   "cell_type": "code",
   "execution_count": 2,
   "id": "509bed55-3c2d-4e31-b64b-0688968a649f",
   "metadata": {},
   "outputs": [],
   "source": [
    "graph = {\n",
    "    'A' : ['B','C'],\n",
    "    'B' : ['D','E'],\n",
    "    'C' : ['F'],\n",
    "    'D' : [],\n",
    "    'E' : ['F'],\n",
    "    'F' : []\n",
    "}"
   ]
  },
  {
   "cell_type": "code",
   "execution_count": 3,
   "id": "b1f3b8c1-c078-4c12-9490-d354f95d1ab0",
   "metadata": {},
   "outputs": [],
   "source": [
    "visited =[]\n",
    "queue = []"
   ]
  },
  {
   "cell_type": "code",
   "execution_count": 4,
   "id": "b9aa4a18-82fb-47ed-8c34-f092ad497ab7",
   "metadata": {},
   "outputs": [],
   "source": [
    "def bfs(viisted, graph, node):\n",
    "    visited.append(node)\n",
    "    queue.append(node)\n",
    "    while queue:\n",
    "        s = queue.pop(0)\n",
    "        print(s, end = \" \")\n",
    "        for neighbour in graph[s]:\n",
    "            if neighbour not in visited:\n",
    "                visited.append(neighbour)\n",
    "                queue.append(neighbour)\n"
   ]
  },
  {
   "cell_type": "code",
   "execution_count": 5,
   "id": "239af7e3-d401-4f80-9104-f80cc05cf0a9",
   "metadata": {},
   "outputs": [
    {
     "name": "stdout",
     "output_type": "stream",
     "text": [
      "A B C D E F "
     ]
    }
   ],
   "source": [
    "bfs(visited, graph, 'A')"
   ]
  }
 ],
 "metadata": {
  "kernelspec": {
   "display_name": "Python 3 (ipykernel)",
   "language": "python",
   "name": "python3"
  },
  "language_info": {
   "codemirror_mode": {
    "name": "ipython",
    "version": 3
   },
   "file_extension": ".py",
   "mimetype": "text/x-python",
   "name": "python",
   "nbconvert_exporter": "python",
   "pygments_lexer": "ipython3",
   "version": "3.12.7"
  }
 },
 "nbformat": 4,
 "nbformat_minor": 5
}
